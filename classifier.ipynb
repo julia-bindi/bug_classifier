{
 "cells": [
  {
   "cell_type": "markdown",
   "metadata": {},
   "source": [
    "# Bug Classifier\n",
    "\n",
    "his project is the final one ofr graduation in computing engineering "
   ]
  },
  {
   "cell_type": "markdown",
   "metadata": {},
   "source": [
    "## General definitions"
   ]
  },
  {
   "cell_type": "markdown",
   "metadata": {},
   "source": [
    "### Importing dependecies"
   ]
  },
  {
   "cell_type": "code",
   "execution_count": null,
   "metadata": {},
   "outputs": [],
   "source": [
    "import bugs_getter as bg\n",
    "import bugs_cleaner as bc\n",
    "import bugs_tokenizer as bt\n",
    "import bugs_classifiers as bcs"
   ]
  },
  {
   "cell_type": "markdown",
   "metadata": {},
   "source": [
    "### Defining global environment"
   ]
  },
  {
   "cell_type": "code",
   "execution_count": null,
   "metadata": {},
   "outputs": [],
   "source": [
    "dataset_path = \"dataset\"\n",
    "\n",
    "features_list = [\n",
    "    \"classification\",\n",
    "    \"component\",\n",
    "    \"depends_on\",\n",
    "    \"dupe_of\",\n",
    "    \"flags\",\n",
    "    \"groups\",\n",
    "    \"id\",\n",
    "    \"is_open\",\n",
    "    \"keywords\",\n",
    "    \"op_sys\",\n",
    "    \"platform\",\n",
    "    \"priority\",\n",
    "    \"product\",\n",
    "    \"resolution\",\n",
    "    \"see_also\",\n",
    "    \"status\",\n",
    "    \"summary\",\n",
    "    \"url\",\n",
    "    \"whiteboard\",\n",
    "]\n",
    "target = \"severity\""
   ]
  },
  {
   "cell_type": "markdown",
   "metadata": {},
   "source": [
    "## Collect the data\n",
    "\n",
    "To construct the dataset it was collected information from Bugzilla, an open source Bug Tracking System. To this end, I done requests for Bugzilla Rest API and stored the informations on a csv file."
   ]
  },
  {
   "cell_type": "code",
   "execution_count": null,
   "metadata": {},
   "outputs": [],
   "source": [
    "bg.create_dataset(dataset_path)"
   ]
  },
  {
   "cell_type": "markdown",
   "metadata": {},
   "source": [
    "## Cleaning dataset\n",
    "\n",
    "In ths step all bugs that contains less than 50% of the feateares filled with any nformation, the bug it removed of the final dataset"
   ]
  },
  {
   "cell_type": "code",
   "execution_count": null,
   "metadata": {},
   "outputs": [],
   "source": [
    "bc.clean_bugs(dataset_path)"
   ]
  },
  {
   "cell_type": "markdown",
   "metadata": {},
   "source": [
    "## Tokenazing String features"
   ]
  },
  {
   "cell_type": "code",
   "execution_count": null,
   "metadata": {},
   "outputs": [],
   "source": [
    "bt.download_nltk_files()"
   ]
  },
  {
   "cell_type": "markdown",
   "metadata": {},
   "source": []
  },
  {
   "cell_type": "code",
   "execution_count": null,
   "metadata": {},
   "outputs": [],
   "source": [
    "bt.get_features_tokens()"
   ]
  },
  {
   "cell_type": "markdown",
   "metadata": {},
   "source": [
    "## Classifying"
   ]
  },
  {
   "cell_type": "markdown",
   "metadata": {},
   "source": [
    "### Random Forest"
   ]
  },
  {
   "cell_type": "code",
   "execution_count": null,
   "metadata": {},
   "outputs": [],
   "source": [
    "rf_report = bcs.random_forest_classification(dataset_path, features_list, target)\n",
    "bcs.print_metrics(rf_report)"
   ]
  },
  {
   "cell_type": "markdown",
   "metadata": {},
   "source": [
    "### Decision Tree"
   ]
  },
  {
   "cell_type": "code",
   "execution_count": null,
   "metadata": {},
   "outputs": [],
   "source": [
    "dt_report = bcs.decision_tree_classification(dataset_path, features_list, target)\n",
    "bcs.print_metrics(dt_report)"
   ]
  },
  {
   "cell_type": "markdown",
   "metadata": {},
   "source": [
    "### Logistic Regression"
   ]
  },
  {
   "cell_type": "code",
   "execution_count": null,
   "metadata": {},
   "outputs": [],
   "source": [
    "lr_report = bcs.logistic_regression_classification(dataset_path, features_list, target)\n",
    "bcs.print_metrics(lr_report)"
   ]
  },
  {
   "cell_type": "markdown",
   "metadata": {},
   "source": [
    "### K Nearest Neighbors"
   ]
  },
  {
   "cell_type": "code",
   "execution_count": null,
   "metadata": {},
   "outputs": [],
   "source": [
    "knn_report = bcs.k_nearest_neighbors_classification(dataset_path, features_list, target)\n",
    "bcs.print_metrics(knn_report)"
   ]
  },
  {
   "cell_type": "markdown",
   "metadata": {},
   "source": [
    "### Naive Bayes"
   ]
  },
  {
   "cell_type": "code",
   "execution_count": null,
   "metadata": {},
   "outputs": [],
   "source": [
    "nb_report = bcs.naive_bayes_classification(dataset_path, features_list, target)\n",
    "bcs.print_metrics(nb_report)"
   ]
  },
  {
   "cell_type": "markdown",
   "metadata": {},
   "source": [
    "## Comparing Results"
   ]
  },
  {
   "cell_type": "code",
   "execution_count": null,
   "metadata": {},
   "outputs": [],
   "source": []
  }
 ],
 "metadata": {
  "kernelspec": {
   "display_name": "Python 3.9.1 ('venv': venv)",
   "language": "python",
   "name": "python3"
  },
  "language_info": {
   "codemirror_mode": {
    "name": "ipython",
    "version": 3
   },
   "file_extension": ".py",
   "mimetype": "text/x-python",
   "name": "python",
   "nbconvert_exporter": "python",
   "pygments_lexer": "ipython3",
   "version": "3.9.1"
  },
  "orig_nbformat": 4,
  "vscode": {
   "interpreter": {
    "hash": "507822387266e1e79e7d8c1c299cb66e2ebd56d8f0060604b817e1def679c308"
   }
  }
 },
 "nbformat": 4,
 "nbformat_minor": 2
}
